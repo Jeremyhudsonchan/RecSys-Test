{
 "cells": [
  {
   "cell_type": "code",
   "execution_count": 39,
   "metadata": {},
   "outputs": [],
   "source": [
    "from functions import connections, initialize"
   ]
  },
  {
   "cell_type": "code",
   "execution_count": 40,
   "metadata": {},
   "outputs": [],
   "source": [
    "NEO4J_DRIVER = connections.NEO4J_DRIVER\n",
    "# verify connection\n",
    "if NEO4J_DRIVER is None:\n",
    "    print(\"Error connecting to Neo4j\")"
   ]
  },
  {
   "cell_type": "code",
   "execution_count": 41,
   "metadata": {},
   "outputs": [
    {
     "name": "stderr",
     "output_type": "stream",
     "text": [
      "2025-01-23 12:31:37,012 - functions.initialize - INFO - Initializing the application\n",
      "2025-01-23 12:31:37,015 - functions.initialize - INFO - Loading pre-created embeddings\n",
      "2025-01-23 12:31:37,046 - functions.data_preprocess - INFO - Embeddings already loaded and indexes created.\n",
      "2025-01-23 12:31:37,048 - functions.initialize - INFO - Dropping missing data\n",
      "2025-01-23 12:31:37,051 - functions.data_preprocess - DEBUG - Running query: plot_drop\n",
      "2025-01-23 12:31:37,540 - functions.data_preprocess - DEBUG - Running query: bio_drop\n",
      "2025-01-23 12:31:37,916 - functions.data_preprocess - DEBUG - Running query: poster_drop\n",
      "2025-01-23 12:31:38,068 - functions.data_preprocess - INFO - Nodes with missing or incorrect embeddings dropped successfully.\n"
     ]
    }
   ],
   "source": [
    "initialize.start()"
   ]
  },
  {
   "cell_type": "markdown",
   "metadata": {},
   "source": [
    "Schema of the Database:\n",
    "\n",
    "![schema](imgs/graph.png)"
   ]
  },
  {
   "cell_type": "code",
   "execution_count": 42,
   "metadata": {},
   "outputs": [],
   "source": [
    "def run_cypher(query, parameters):\n",
    "    with NEO4J_DRIVER.session() as session:\n",
    "        result = session.run(query, parameters)\n",
    "        data = result.data()\n",
    "        return data"
   ]
  },
  {
   "cell_type": "markdown",
   "metadata": {},
   "source": [
    "## Getting all Movies"
   ]
  },
  {
   "cell_type": "code",
   "execution_count": 43,
   "metadata": {},
   "outputs": [
    {
     "name": "stdout",
     "output_type": "stream",
     "text": [
      "4:31cc548a-e875-40d2-9ae3-7884192f4683:9144\n"
     ]
    }
   ],
   "source": [
    "def get_all_nodes_id():\n",
    "    query = \"MATCH (mov:Movie) RETURN elementid(mov) as id\"\n",
    "    result = run_cypher(query, {})\n",
    "    return [record[\"id\"] for record in result]\n",
    "\n",
    "movie_ids = get_all_nodes_id()\n",
    "print(movie_ids[-1])"
   ]
  },
  {
   "cell_type": "markdown",
   "metadata": {},
   "source": [
    "## Neo4j Movie Recommendations"
   ]
  },
  {
   "cell_type": "markdown",
   "metadata": {},
   "source": [
    "### Naive Movie Similarity (Basic Graph Traversal)"
   ]
  },
  {
   "cell_type": "code",
   "execution_count": 44,
   "metadata": {},
   "outputs": [
    {
     "name": "stdout",
     "output_type": "stream",
     "text": [
      "Look of Silence, The\n",
      "Dog, The\n",
      "1971\n",
      "Nixon by Nixon: In His Own Words\n",
      "Life Itself\n",
      "Finding Vivian Maier\n",
      "Internet's Own Boy: The Story of Aaron Swartz, The\n",
      "Battered Bastards of Baseball, The\n",
      "Jodorowsky's Dune\n",
      "Mistaken for Strangers\n"
     ]
    }
   ],
   "source": [
    "def similar_movies_genre(id):\n",
    "    '''\n",
    "    Finding Movies in the same genre as the given movie, no ranking methods used\n",
    "    '''\n",
    "    query = \"\"\"\n",
    "    MATCH (m:Movie)-[:IN_GENRE]->(g:Genre)<-[:IN_GENRE]-(rec:Movie)\n",
    "    WHERE elementId(m) = $id\n",
    "    WITH rec\n",
    "    RETURN rec.title AS recommendation\n",
    "    LIMIT 10\n",
    "    \"\"\"\n",
    "    result = run_cypher(query, {\"id\": id})\n",
    "    for record in result:\n",
    "        print(record[\"recommendation\"])\n",
    "\n",
    "similar_movies_genre(movie_ids[-1])"
   ]
  },
  {
   "cell_type": "markdown",
   "metadata": {},
   "source": [
    "### Using Plot Embeddings (OpenAI text-embedding-ada-002)"
   ]
  },
  {
   "cell_type": "code",
   "execution_count": 45,
   "metadata": {},
   "outputs": [],
   "source": [
    "def drop_no_plots():\n",
    "    query = \"\"\"\n",
    "    MATCH (m:Movie)\n",
    "    WHERE m.plot IS NULL\n",
    "    DETACH DELETE m\n",
    "    \"\"\"\n",
    "    run_cypher(query, {})"
   ]
  },
  {
   "cell_type": "code",
   "execution_count": 46,
   "metadata": {},
   "outputs": [],
   "source": [
    "def movie_node_proj_graph():\n",
    "    '''\n",
    "    Drops existing projection graph if exists, and creates a new graph with Movie nodes and plotEmbedding property\n",
    "    '''\n",
    "    drop_query = \"\"\"\n",
    "    CALL gds.graph.drop('movieGenreGraph', false) YIELD graphName;\n",
    "    \"\"\"\n",
    "    run_cypher(drop_query, {})\n",
    "    # query = \"\"\"\n",
    "    # CALL gds.graph.project(\n",
    "    # 'movieGenreGraph',              \n",
    "    # {\n",
    "    #   Movie: {\n",
    "    #     properties: ['plotEmbedding']\n",
    "    #   },\n",
    "    #   Genre: {}\n",
    "    #   },               \n",
    "    #   {\n",
    "    #   IN_GENRE: {\n",
    "    #     type: 'IN_GENRE',\n",
    "    #     orientation: 'NATURAL'\n",
    "    #   }\n",
    "    # }\n",
    "    # )\n",
    "    # \"\"\"\n",
    "    # result = run_cypher(query, {})\n",
    "    # return result"
   ]
  },
  {
   "cell_type": "code",
   "execution_count": 47,
   "metadata": {},
   "outputs": [
    {
     "name": "stdout",
     "output_type": "stream",
     "text": [
      "None\n"
     ]
    }
   ],
   "source": [
    "movie_node_projection = movie_node_proj_graph()\n",
    "print(movie_node_projection)"
   ]
  },
  {
   "cell_type": "markdown",
   "metadata": {},
   "source": [
    "# Content Filtering Methods"
   ]
  },
  {
   "cell_type": "code",
   "execution_count": 51,
   "metadata": {},
   "outputs": [
    {
     "name": "stdout",
     "output_type": "stream",
     "text": [
      "dict_keys(['source_id', 'source', 'target_id', 'target', 'similarity'])\n",
      "dict_keys(['source_id', 'source', 'target_id', 'target', 'similarity'])\n",
      "dict_keys(['source_id', 'source', 'target_id', 'target', 'similarity'])\n",
      "dict_keys(['source_id', 'source', 'target_id', 'target', 'similarity'])\n",
      "dict_keys(['source_id', 'source', 'target_id', 'target', 'similarity'])\n",
      "dict_keys(['source_id', 'source', 'target_id', 'target', 'similarity'])\n",
      "dict_keys(['source_id', 'source', 'target_id', 'target', 'similarity'])\n",
      "dict_keys(['source_id', 'source', 'target_id', 'target', 'similarity'])\n",
      "dict_keys(['source_id', 'source', 'target_id', 'target', 'similarity'])\n",
      "dict_keys(['source_id', 'source', 'target_id', 'target', 'similarity'])\n",
      "dict_keys(['source_id', 'source', 'target_id', 'target', 'similarity'])\n",
      "dict_keys(['source_id', 'source', 'target_id', 'target', 'similarity'])\n",
      "dict_keys(['source_id', 'source', 'target_id', 'target', 'similarity'])\n",
      "dict_keys(['source_id', 'source', 'target_id', 'target', 'similarity'])\n",
      "dict_keys(['source_id', 'source', 'target_id', 'target', 'similarity'])\n",
      "dict_keys(['source_id', 'source', 'target_id', 'target', 'similarity'])\n",
      "dict_keys(['source_id', 'source', 'target_id', 'target', 'similarity'])\n",
      "dict_keys(['source_id', 'source', 'target_id', 'target', 'similarity'])\n",
      "dict_keys(['source_id', 'source', 'target_id', 'target', 'similarity'])\n",
      "dict_keys(['source_id', 'source', 'target_id', 'target', 'similarity'])\n"
     ]
    }
   ],
   "source": [
    "def plot_embedding_similarity_genre(id):\n",
    "    '''\n",
    "    Leveraging plot embeddings to find similar movies in the same genre, ranking using cosine similarity score\n",
    "    Uses the moviePlots index to find similar movies\n",
    "    '''\n",
    "    query = \"\"\"\n",
    "    MATCH (source:Movie)\n",
    "    WHERE elementId(source) = $id\n",
    "    WITH source, source.plotEmbedding AS sourceVec\n",
    "    MATCH (target:Movie)-[:IN_GENRE]->(g:Genre)<-[:IN_GENRE]-(source)\n",
    "    WHERE target.plotEmbedding IS NOT NULL\n",
    "    WITH source, target, g, gds.similarity.cosine(sourceVec, target.plotEmbedding) AS similarity\n",
    "    RETURN DISTINCT elementId(source) as source_id, source, elementId(target) as target_id, target, similarity\n",
    "    ORDER BY similarity DESC\n",
    "    LIMIT 20\n",
    "    \"\"\"\n",
    "    result = run_cypher(query, {'id': id})\n",
    "    return result\n",
    "\n",
    "similar_movies = plot_embedding_similarity_genre('4:31cc548a-e875-40d2-9ae3-7884192f4683:12')\n",
    "for record in similar_movies:\n",
    "    # print(record[\"target_id\"], record[\"target\"][\"title\"], record[\"similarity\"])\n",
    "    print(record.keys())"
   ]
  },
  {
   "cell_type": "markdown",
   "metadata": {},
   "source": [
    "# Collaborative Filtering Methods"
   ]
  },
  {
   "cell_type": "code",
   "execution_count": 49,
   "metadata": {},
   "outputs": [
    {
     "name": "stdout",
     "output_type": "stream",
     "text": [
      "Shawshank Redemption, The\n",
      "Fight Club\n",
      "Pulp Fiction\n",
      "Lord of the Rings: The Fellowship of the Ring, The\n",
      "Forrest Gump\n",
      "Matrix, The\n",
      "Lord of the Rings: The Return of the King, The\n",
      "Godfather, The\n",
      "Lord of the Rings: The Two Towers, The\n",
      "Seven (a.k.a. Se7en)\n",
      "Gladiator\n",
      "Star Wars: Episode IV - A New Hope\n",
      "Silence of the Lambs, The\n",
      "Saving Private Ryan\n",
      "Schindler's List\n",
      "Memento\n",
      "Star Wars: Episode V - The Empire Strikes Back\n",
      "American Beauty\n",
      "Titanic\n",
      "Godfather: Part II, The\n"
     ]
    }
   ],
   "source": [
    "def movie_user_recommendations_singular(id, rating):\n",
    "    '''\n",
    "    id: movie node id\n",
    "    Idea is, if a user has rated a movie highly (5.0), then find similar users who have rated the same movie highly, and recommend movies that they have rated highly\n",
    "    If a user has rated a movie poorly (0.5), then find similar users who have rated the same movie poorly, and recommend movies that they have rated highly\n",
    "    '''\n",
    "    # create a graph projection of Movie and User nodes, and Rated relationships\n",
    "    # For the rated relationships, we will use the rating as the weight\n",
    "    # The rating can be accessed by the rating property of the Rated relationship\n",
    "    # drop_query = \"\"\"\n",
    "    # CALL gds.graph.drop('movieUserGraph', false) YIELD graphName;\n",
    "    # \"\"\"\n",
    "    # run_cypher(drop_query, {})\n",
    "    # query = \"\"\"\n",
    "    # CALL gds.graph.project(\n",
    "    # 'movieUserGraph',              \n",
    "    # {\n",
    "    #   Movie: {\n",
    "    #     properties: ['title']\n",
    "    #   },\n",
    "    #   User: {\n",
    "    #     properties: ['userId']\n",
    "    #   }\n",
    "    #   },               \n",
    "    #   {\n",
    "    #   RATED: {\n",
    "    #     type: 'RATED',\n",
    "    #     orientation: 'NATURAL',\n",
    "    #     properties: 'rating'\n",
    "    #   }\n",
    "    # }\n",
    "    # )\n",
    "    # \"\"\"\n",
    "    # result = run_cypher(query, {})\n",
    "    # Find all the users who have rated the movie, and the rating they gave\n",
    "    # Out of the users who have rated the movie, find the users who have rated the movie similarly to the given rating\n",
    "    # Find the movies that these users have rated highly in the same genre\n",
    "    query = \"\"\"\n",
    "    MATCH (m:Movie)\n",
    "    WHERE elementId(m) = $id\n",
    "    WITH m\n",
    "    MATCH (m)<-[r:RATED]-(u:User)\n",
    "    WHERE r.rating = $rating\n",
    "    WITH u\n",
    "    MATCH (u)-[r:RATED]->(rec:Movie)\n",
    "    WHERE r.rating = 5.0\n",
    "    WITH rec, COLLECT(elementId(u)) AS users\n",
    "    RETURN DISTINCT elementId(rec) AS rec_id, rec AS recommendation, users\n",
    "    ORDER BY rec.imdbVotes DESC\n",
    "    LIMIT 20\n",
    "    \"\"\"\n",
    "    result = run_cypher(query, {'id': id, 'rating': rating})\n",
    "    return result\n",
    "\n",
    "movie_user_recommendations = movie_user_recommendations_singular('4:31cc548a-e875-40d2-9ae3-7884192f4683:12', 5.0)\n",
    "for record in movie_user_recommendations:\n",
    "    print(record[\"recommendation\"][\"title\"])"
   ]
  },
  {
   "cell_type": "code",
   "execution_count": 50,
   "metadata": {},
   "outputs": [
    {
     "ename": "SyntaxError",
     "evalue": "expected ':' (1235545919.py, line 1)",
     "output_type": "error",
     "traceback": [
      "\u001b[0;36m  Cell \u001b[0;32mIn[50], line 1\u001b[0;36m\u001b[0m\n\u001b[0;31m    def movie_user_recommendations_count_singular(id, rating)\u001b[0m\n\u001b[0m                                                             ^\u001b[0m\n\u001b[0;31mSyntaxError\u001b[0m\u001b[0;31m:\u001b[0m expected ':'\n"
     ]
    }
   ],
   "source": [
    "def movie_user_recommendations_count_singular(id, rating)\n",
    "    query = \"\"\"\n",
    "    MATCH (m:Movie)\n",
    "    WHERE elementId(m) = $id\n",
    "    WITH m\n",
    "    MATCH (m)<-[r:RATED]-(u:User)  \n",
    "    WITH u, m\n",
    "    MATCH (u)-[r:RATED]->(rec:Movie)  \n",
    "    WHERE elementID(m) <> elementID(rec)\n",
    "    WITH rec, COUNT(u) AS user_count\n",
    "    RETURN elementId(rec) AS rec_id, rec AS recommendation, user_count\n",
    "    ORDER BY user_count DESC\n",
    "    LIMIT 20\n",
    "    \"\"\"\n",
    "    result = run_cypher(query, {'id': id, 'rating': rating})\n",
    "    return result\n",
    "\n",
    "movie_user_recommendations = movie_user_recommendations_count_singular('4:31cc548a-e875-40d2-9ae3-7884192f4683:12', 5.0)\n",
    "for record in movie_user_recommendations:\n",
    "    print(record[\"recommendation\"][\"title\"])"
   ]
  },
  {
   "cell_type": "code",
   "execution_count": null,
   "metadata": {},
   "outputs": [],
   "source": []
  }
 ],
 "metadata": {
  "kernelspec": {
   "display_name": "env",
   "language": "python",
   "name": "python3"
  },
  "language_info": {
   "codemirror_mode": {
    "name": "ipython",
    "version": 3
   },
   "file_extension": ".py",
   "mimetype": "text/x-python",
   "name": "python",
   "nbconvert_exporter": "python",
   "pygments_lexer": "ipython3",
   "version": "3.10.7"
  }
 },
 "nbformat": 4,
 "nbformat_minor": 2
}
