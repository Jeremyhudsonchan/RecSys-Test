{
 "cells": [
  {
   "cell_type": "code",
   "execution_count": 1,
   "metadata": {},
   "outputs": [
    {
     "name": "stderr",
     "output_type": "stream",
     "text": [
      "2025-01-28 20:46:45,206 - functions.connections - INFO - Connecting to Neo4j at bolt://localhost:7687 with user neo4j\n"
     ]
    },
    {
     "name": "stdout",
     "output_type": "stream",
     "text": [
      "True\n"
     ]
    }
   ],
   "source": [
    "from functions import connections, initialize"
   ]
  },
  {
   "cell_type": "code",
   "execution_count": 2,
   "metadata": {},
   "outputs": [],
   "source": [
    "NEO4J_DRIVER = connections.NEO4J_DRIVER\n",
    "# verify connection\n",
    "if NEO4J_DRIVER is None:\n",
    "    print(\"Error connecting to Neo4j\")"
   ]
  },
  {
   "cell_type": "code",
   "execution_count": 3,
   "metadata": {},
   "outputs": [
    {
     "name": "stderr",
     "output_type": "stream",
     "text": [
      "2025-01-28 20:46:45,275 - functions.initialize - INFO - Initializing the application\n",
      "2025-01-28 20:46:45,280 - functions.initialize - INFO - Loading pre-created embeddings\n",
      "2025-01-28 20:46:45,332 - functions.data_preprocess - INFO - Embeddings already loaded and indexes created.\n",
      "2025-01-28 20:46:45,371 - functions.initialize - INFO - Dropping missing data\n",
      "2025-01-28 20:46:45,373 - functions.data_preprocess - DEBUG - Running query: plot_drop\n",
      "2025-01-28 20:46:46,019 - functions.data_preprocess - DEBUG - Running query: bio_drop\n",
      "2025-01-28 20:46:47,019 - functions.data_preprocess - DEBUG - Running query: poster_drop\n",
      "2025-01-28 20:46:47,230 - functions.data_preprocess - DEBUG - Running query: year_drop\n",
      "2025-01-28 20:46:47,249 - functions.data_preprocess - DEBUG - Running query: imdbRating_drop\n",
      "2025-01-28 20:46:47,261 - functions.data_preprocess - INFO - Nodes with missing or incorrect embeddings dropped successfully.\n"
     ]
    }
   ],
   "source": [
    "initialize.start()"
   ]
  },
  {
   "cell_type": "markdown",
   "metadata": {},
   "source": [
    "Schema of the Database:\n",
    "\n",
    "![schema](imgs/graph.png)"
   ]
  },
  {
   "cell_type": "code",
   "execution_count": 4,
   "metadata": {},
   "outputs": [],
   "source": [
    "def run_cypher(query, parameters):\n",
    "    with NEO4J_DRIVER.session() as session:\n",
    "        result = session.run(query, parameters)\n",
    "        data = result.data()\n",
    "        return data"
   ]
  },
  {
   "cell_type": "markdown",
   "metadata": {},
   "source": [
    "## Getting all Movies"
   ]
  },
  {
   "cell_type": "code",
   "execution_count": 5,
   "metadata": {},
   "outputs": [
    {
     "name": "stdout",
     "output_type": "stream",
     "text": [
      "4:31cc548a-e875-40d2-9ae3-7884192f4683:9143\n"
     ]
    }
   ],
   "source": [
    "def get_all_nodes_id():\n",
    "    query = \"MATCH (mov:Movie) RETURN elementid(mov) as id\"\n",
    "    result = run_cypher(query, {})\n",
    "    return [record[\"id\"] for record in result]\n",
    "\n",
    "movie_ids = get_all_nodes_id()\n",
    "print(movie_ids[-1])"
   ]
  },
  {
   "cell_type": "markdown",
   "metadata": {},
   "source": [
    "## Neo4j Movie Recommendations"
   ]
  },
  {
   "cell_type": "markdown",
   "metadata": {},
   "source": [
    "### Naive Movie Similarity (Basic Graph Traversal)"
   ]
  },
  {
   "cell_type": "code",
   "execution_count": 6,
   "metadata": {},
   "outputs": [
    {
     "name": "stdout",
     "output_type": "stream",
     "text": [
      "Two Night Stand\n",
      "Stretch\n",
      "Boxtrolls, The\n",
      "This Is Where I Leave You\n",
      "Tusk\n",
      "St. Vincent\n",
      "Rewrite, The\n",
      "Big Hero 6\n",
      "What We Do in the Shadows\n",
      "Let's Be Cops\n"
     ]
    }
   ],
   "source": [
    "def similar_movies_genre(id):\n",
    "    \"\"\"\n",
    "    Finding Movies in the same genre as the given movie, no ranking methods used\n",
    "    \"\"\"\n",
    "    query = \"\"\"\n",
    "    MATCH (m:Movie)-[:IN_GENRE]->(g:Genre)<-[:IN_GENRE]-(rec:Movie)\n",
    "    WHERE elementId(m) = $id\n",
    "    WITH rec\n",
    "    RETURN rec.title AS recommendation\n",
    "    LIMIT 10\n",
    "    \"\"\"\n",
    "    result = run_cypher(query, {\"id\": id})\n",
    "    for record in result:\n",
    "        print(record[\"recommendation\"])\n",
    "\n",
    "similar_movies_genre(movie_ids[-1])"
   ]
  },
  {
   "cell_type": "markdown",
   "metadata": {},
   "source": [
    "### Using Plot Embeddings (OpenAI text-embedding-ada-002)"
   ]
  },
  {
   "cell_type": "code",
   "execution_count": 7,
   "metadata": {},
   "outputs": [],
   "source": [
    "def drop_no_plots():\n",
    "    query = \"\"\"\n",
    "    MATCH (m:Movie)\n",
    "    WHERE m.plot IS NULL\n",
    "    DETACH DELETE m\n",
    "    \"\"\"\n",
    "    run_cypher(query, {})"
   ]
  },
  {
   "cell_type": "code",
   "execution_count": 8,
   "metadata": {},
   "outputs": [],
   "source": [
    "def movie_node_proj_graph():\n",
    "    \"\"\"\n",
    "    Drops existing projection graph if exists, and creates a new graph with Movie nodes and plotEmbedding property\n",
    "    \"\"\"\n",
    "    drop_query = \"\"\"\n",
    "    CALL gds.graph.drop('movieGenreGraph', false) YIELD graphName;\n",
    "    \"\"\"\n",
    "    run_cypher(drop_query, {})\n",
    "    # query = \"\"\"\n",
    "    # CALL gds.graph.project(\n",
    "    # 'movieGenreGraph',              \n",
    "    # {\n",
    "    #   Movie: {\n",
    "    #     properties: ['plotEmbedding']\n",
    "    #   },\n",
    "    #   Genre: {}\n",
    "    #   },               \n",
    "    #   {\n",
    "    #   IN_GENRE: {\n",
    "    #     type: 'IN_GENRE',\n",
    "    #     orientation: 'NATURAL'\n",
    "    #   }\n",
    "    # }\n",
    "    # )\n",
    "    # \"\"\"\n",
    "    # result = run_cypher(query, {})\n",
    "    # return result"
   ]
  },
  {
   "cell_type": "code",
   "execution_count": 9,
   "metadata": {},
   "outputs": [
    {
     "name": "stdout",
     "output_type": "stream",
     "text": [
      "None\n"
     ]
    }
   ],
   "source": [
    "movie_node_projection = movie_node_proj_graph()\n",
    "print(movie_node_projection)"
   ]
  },
  {
   "cell_type": "markdown",
   "metadata": {},
   "source": [
    "# Collaborative Filtering Methods"
   ]
  },
  {
   "cell_type": "code",
   "execution_count": 10,
   "metadata": {},
   "outputs": [
    {
     "name": "stdout",
     "output_type": "stream",
     "text": [
      "Shawshank Redemption, The\n",
      "Fight Club\n",
      "Pulp Fiction\n",
      "Lord of the Rings: The Fellowship of the Ring, The\n",
      "Forrest Gump\n",
      "Matrix, The\n",
      "Lord of the Rings: The Return of the King, The\n",
      "Godfather, The\n",
      "Lord of the Rings: The Two Towers, The\n",
      "Seven (a.k.a. Se7en)\n",
      "Gladiator\n",
      "Star Wars: Episode IV - A New Hope\n",
      "Silence of the Lambs, The\n",
      "Saving Private Ryan\n",
      "Schindler's List\n",
      "Memento\n",
      "Star Wars: Episode V - The Empire Strikes Back\n",
      "American Beauty\n",
      "Titanic\n",
      "Godfather: Part II, The\n"
     ]
    }
   ],
   "source": [
    "def movie_user_recommendations_singular(id, rating):\n",
    "    \"\"\"\n",
    "    id: movie node id\n",
    "    Idea is, if a user has rated a movie highly (5.0), then find similar users who have rated the same movie highly, and recommend movies that they have rated highly\n",
    "    If a user has rated a movie poorly (0.5), then find similar users who have rated the same movie poorly, and recommend movies that they have rated highly\n",
    "    \"\"\"\n",
    "    # create a graph projection of Movie and User nodes, and Rated relationships\n",
    "    # For the rated relationships, we will use the rating as the weight\n",
    "    # The rating can be accessed by the rating property of the Rated relationship\n",
    "    # drop_query = \"\"\"\n",
    "    # CALL gds.graph.drop('movieUserGraph', false) YIELD graphName;\n",
    "    # \"\"\"\n",
    "    # run_cypher(drop_query, {})\n",
    "    # query = \"\"\"\n",
    "    # CALL gds.graph.project(\n",
    "    # 'movieUserGraph',              \n",
    "    # {\n",
    "    #   Movie: {\n",
    "    #     properties: ['title']\n",
    "    #   },\n",
    "    #   User: {\n",
    "    #     properties: ['userId']\n",
    "    #   }\n",
    "    #   },               \n",
    "    #   {\n",
    "    #   RATED: {\n",
    "    #     type: 'RATED',\n",
    "    #     orientation: 'NATURAL',\n",
    "    #     properties: 'rating'\n",
    "    #   }\n",
    "    # }\n",
    "    # )\n",
    "    # \"\"\"\n",
    "    # result = run_cypher(query, {})\n",
    "    # Find all the users who have rated the movie, and the rating they gave\n",
    "    # Out of the users who have rated the movie, find the users who have rated the movie similarly to the given rating\n",
    "    # Find the movies that these users have rated highly in the same genre\n",
    "    query = \"\"\"\n",
    "    MATCH (m:Movie)\n",
    "    WHERE elementId(m) = $id\n",
    "    WITH m\n",
    "    MATCH (m)<-[r:RATED]-(u:User)\n",
    "    WHERE r.rating = $rating\n",
    "    WITH u\n",
    "    MATCH (u)-[r:RATED]->(rec:Movie)\n",
    "    WHERE r.rating = 5.0\n",
    "    WITH rec, COLLECT(elementId(u)) AS users\n",
    "    RETURN DISTINCT elementId(rec) AS rec_id, rec AS recommendation, users\n",
    "    ORDER BY rec.imdbVotes DESC\n",
    "    LIMIT 20\n",
    "    \"\"\"\n",
    "    result = run_cypher(query, {'id': id, 'rating': rating})\n",
    "    return result\n",
    "\n",
    "movie_user_recommendations = movie_user_recommendations_singular('4:31cc548a-e875-40d2-9ae3-7884192f4683:12', 5.0)\n",
    "for record in movie_user_recommendations:\n",
    "    print(record[\"recommendation\"][\"title\"])"
   ]
  },
  {
   "cell_type": "markdown",
   "metadata": {},
   "source": [
    "# Content Filtering Methods"
   ]
  },
  {
   "cell_type": "code",
   "execution_count": 11,
   "metadata": {},
   "outputs": [
    {
     "name": "stdout",
     "output_type": "stream",
     "text": [
      "dict_keys(['source_id', 'source', 'target_id', 'target', 'similarity'])\n",
      "dict_keys(['source_id', 'source', 'target_id', 'target', 'similarity'])\n",
      "dict_keys(['source_id', 'source', 'target_id', 'target', 'similarity'])\n",
      "dict_keys(['source_id', 'source', 'target_id', 'target', 'similarity'])\n",
      "dict_keys(['source_id', 'source', 'target_id', 'target', 'similarity'])\n",
      "dict_keys(['source_id', 'source', 'target_id', 'target', 'similarity'])\n",
      "dict_keys(['source_id', 'source', 'target_id', 'target', 'similarity'])\n",
      "dict_keys(['source_id', 'source', 'target_id', 'target', 'similarity'])\n",
      "dict_keys(['source_id', 'source', 'target_id', 'target', 'similarity'])\n",
      "dict_keys(['source_id', 'source', 'target_id', 'target', 'similarity'])\n",
      "dict_keys(['source_id', 'source', 'target_id', 'target', 'similarity'])\n",
      "dict_keys(['source_id', 'source', 'target_id', 'target', 'similarity'])\n",
      "dict_keys(['source_id', 'source', 'target_id', 'target', 'similarity'])\n",
      "dict_keys(['source_id', 'source', 'target_id', 'target', 'similarity'])\n",
      "dict_keys(['source_id', 'source', 'target_id', 'target', 'similarity'])\n",
      "dict_keys(['source_id', 'source', 'target_id', 'target', 'similarity'])\n",
      "dict_keys(['source_id', 'source', 'target_id', 'target', 'similarity'])\n",
      "dict_keys(['source_id', 'source', 'target_id', 'target', 'similarity'])\n",
      "dict_keys(['source_id', 'source', 'target_id', 'target', 'similarity'])\n",
      "dict_keys(['source_id', 'source', 'target_id', 'target', 'similarity'])\n"
     ]
    }
   ],
   "source": [
    "def plot_embedding_similarity_genre(id):\n",
    "    \"\"\"\n",
    "    Leveraging plot embeddings to find similar movies in the same genre, ranking using cosine similarity score\n",
    "    Uses the moviePlots index to find similar movies\n",
    "    \"\"\"\n",
    "    query = \"\"\"\n",
    "    MATCH (source:Movie)\n",
    "    WHERE elementId(source) = $id\n",
    "    WITH source, source.plotEmbedding AS sourceVec\n",
    "    MATCH (target:Movie)-[:IN_GENRE]->(g:Genre)<-[:IN_GENRE]-(source)\n",
    "    WHERE target.plotEmbedding IS NOT NULL\n",
    "    WITH source, target, g, gds.similarity.cosine(sourceVec, target.plotEmbedding) AS similarity\n",
    "    RETURN DISTINCT elementId(source) as source_id, source, elementId(target) as target_id, target, similarity\n",
    "    ORDER BY similarity DESC\n",
    "    LIMIT 20\n",
    "    \"\"\"\n",
    "    result = run_cypher(query, {'id': id})\n",
    "    return result\n",
    "\n",
    "similar_movies = plot_embedding_similarity_genre('4:31cc548a-e875-40d2-9ae3-7884192f4683:12')\n",
    "for record in similar_movies:\n",
    "    # print(record[\"target_id\"], record[\"target\"][\"title\"], record[\"similarity\"])\n",
    "    print(record.keys())"
   ]
  },
  {
   "cell_type": "code",
   "execution_count": 12,
   "metadata": {},
   "outputs": [
    {
     "name": "stdout",
     "output_type": "stream",
     "text": [
      "Independence Day (a.k.a. ID4)\n",
      "Pulp Fiction\n",
      "Fargo\n",
      "Twelve Monkeys (a.k.a. 12 Monkeys)\n",
      "Star Wars: Episode IV - A New Hope\n",
      "Forrest Gump\n",
      "Jurassic Park\n",
      "Silence of the Lambs, The\n",
      "Twister\n",
      "Toy Story\n",
      "Mission: Impossible\n",
      "Seven (a.k.a. Se7en)\n",
      "Rock, The\n",
      "Shawshank Redemption, The\n",
      "Fugitive, The\n",
      "Terminator 2: Judgment Day\n",
      "Braveheart\n",
      "Usual Suspects, The\n",
      "True Lies\n",
      "Apollo 13\n"
     ]
    }
   ],
   "source": [
    "def movie_user_recommendations_count_singular(id, rating):\n",
    "    query = \"\"\"\n",
    "    MATCH (m:Movie)\n",
    "    WHERE elementId(m) = $id\n",
    "    WITH m\n",
    "    MATCH (m)<-[r:RATED]-(u:User)  \n",
    "    WITH u, m\n",
    "    MATCH (u)-[r:RATED]->(rec:Movie)  \n",
    "    WHERE elementID(m) <> elementID(rec)\n",
    "    WITH rec, COUNT(u) AS user_count\n",
    "    RETURN elementId(rec) AS rec_id, rec AS recommendation, user_count\n",
    "    ORDER BY user_count DESC\n",
    "    LIMIT 20\n",
    "    \"\"\"\n",
    "    result = run_cypher(query, {'id': id, 'rating': rating})\n",
    "    return result\n",
    "\n",
    "movie_user_recommendations = movie_user_recommendations_count_singular('4:31cc548a-e875-40d2-9ae3-7884192f4683:12', 5.0)\n",
    "for record in movie_user_recommendations:\n",
    "    print(record[\"recommendation\"][\"title\"])"
   ]
  },
  {
   "cell_type": "code",
   "execution_count": 13,
   "metadata": {},
   "outputs": [
    {
     "name": "stdout",
     "output_type": "stream",
     "text": [
      "TMNT (Teenage Mutant Ninja Turtles) 7\n",
      "The Lego Movie 7\n",
      "Gnomeo & Juliet 6\n",
      "Inside Out 6\n",
      "One Piece Film: Strong World 6\n",
      "Turbo 6\n",
      "Zootopia 6\n",
      "Boxtrolls, The 6\n",
      "The Good Dinosaur 6\n",
      "Home 6\n"
     ]
    }
   ],
   "source": [
    "def movie_similarity_jaccard(id_list):\n",
    "    \"\"\"\n",
    "    This function uses jaccard similarity to find similar movies based on the genres, actors, and directors of the movies\n",
    "    Greater the interseciton between the sets is the better the similarity\n",
    "    param id_list: list of movie node ids (must be at least 2 elements in list to create a similarity)\n",
    "    \"\"\"\n",
    "    if id_list is None or len(id_list) < 2:\n",
    "        print(\"Please provide at least 2 movie ids\")\n",
    "        return []\n",
    "    query = \"\"\"\n",
    "    MATCH (m1:Movie)-[:IN_GENRE|ACTED_IN|DIRECTED]->(x)<-[:IN_GENRE|ACTED_IN|DIRECTED]-(m2:Movie)\n",
    "    WHERE elementId(m1) IN $id_list AND m1 <> m2\n",
    "    RETURN elementId(m2) AS id, properties(m2) as movie, COUNT(x) AS score\n",
    "    ORDER BY score DESC\n",
    "    LIMIT 10\n",
    "    \"\"\"\n",
    "    \n",
    "    results = run_cypher(query, {'id_list': id_list})\n",
    "    return results\n",
    "\n",
    "movie_similarity = movie_similarity_jaccard(['4:31cc548a-e875-40d2-9ae3-7884192f4683:0', '4:31cc548a-e875-40d2-9ae3-7884192f4683:19'])\n",
    "\n",
    "for record in movie_similarity:\n",
    "    print(record[\"movie\"][\"title\"], record[\"score\"])"
   ]
  },
  {
   "cell_type": "code",
   "execution_count": 14,
   "metadata": {},
   "outputs": [],
   "source": [
    "movie_id_list = [0,5,7,8,11,12,15,17,18,19,20,21,22,24,25,26,27,28,29,30,31,32,34,35,36]"
   ]
  },
  {
   "cell_type": "markdown",
   "metadata": {},
   "source": [
    "### Personalized PageRank doesn't work, graph is too sparse"
   ]
  },
  {
   "cell_type": "code",
   "execution_count": 15,
   "metadata": {},
   "outputs": [
    {
     "name": "stderr",
     "output_type": "stream",
     "text": [
      "Received notification from DBMS server: {severity: WARNING} {code: Neo.ClientNotification.Statement.FeatureDeprecationWarning} {category: DEPRECATION} {title: This feature is deprecated and will be removed in future versions.} {description: The query used a deprecated function: `id`.} {position: line: 9, column: 29, offset: 189} for query: \"\\n    CALL gds.pageRank.stream('movieGraph', \\n        {\\n            sourceNodes: $id_list,\\n            dampingFactor: 0.7\\n        }\\n    )\\n    YIELD nodeId, score\\n    WHERE score > 0 AND NOT ID(gds.util.asNode(nodeId)) IN $id_list\\n    RETURN elementId(gds.util.asNode(nodeId)) AS id, properties(gds.util.asNode(nodeId)) AS movie, score\\n    ORDER BY score DESC\\n    LIMIT 10;\\n    \"\n"
     ]
    }
   ],
   "source": [
    "def page_rank_recommendations(id_list):\n",
    "    \"\"\"\n",
    "    Annoyingly, ids cannot be elementId, must be the old id\n",
    "    Runs personalized pagerank on the movie graphs using the given movie ids as seed nodes\n",
    "    Returns list of recommended movies\n",
    "    param id_list: list of movie node ids\n",
    "    \"\"\"\n",
    "    if id_list is None or len(id_list) < 1:\n",
    "        print(\"Please provide at least 1 movie id\")\n",
    "        return []\n",
    "    drop_query = \"\"\"\n",
    "    CALL gds.graph.drop('movieGraph', false) YIELD graphName;\n",
    "    \"\"\"\n",
    "    run_cypher(drop_query, {})\n",
    "    projection_graph_query = \"\"\"\n",
    "    CALL gds.graph.project(\n",
    "        'movieGraph',\n",
    "        ['Movie'],\n",
    "        {\n",
    "            ACTED_IN: {orientation: 'UNDIRECTED'},\n",
    "            DIRECTED: {orientation: 'UNDIRECTED'},\n",
    "            IN_GENRE: {orientation: 'UNDIRECTED'},\n",
    "            RATED: {orientation: 'UNDIRECTED', properties: 'rating'}\n",
    "        }\n",
    "    )\n",
    "    \"\"\"\n",
    "    run_cypher(projection_graph_query, {})\n",
    "    \n",
    "    query = \"\"\"\n",
    "    CALL gds.pageRank.stream('movieGraph', \n",
    "        {\n",
    "            sourceNodes: $id_list,\n",
    "            dampingFactor: 0.7\n",
    "        }\n",
    "    )\n",
    "    YIELD nodeId, score\n",
    "    WHERE score > 0 AND NOT ID(gds.util.asNode(nodeId)) IN $id_list\n",
    "    RETURN elementId(gds.util.asNode(nodeId)) AS id, properties(gds.util.asNode(nodeId)) AS movie, score\n",
    "    ORDER BY score DESC\n",
    "    LIMIT 10;\n",
    "    \"\"\"\n",
    "    \n",
    "    results = run_cypher(query, {'id_list': id_list})\n",
    "    run_cypher(drop_query, {})\n",
    "    return results\n",
    "\n",
    "page_rank_recommendations = page_rank_recommendations(movie_id_list)\n",
    "for record in page_rank_recommendations:\n",
    "    print(record[\"movie\"][\"title\"], record[\"score\"])\n",
    "    "
   ]
  },
  {
   "cell_type": "markdown",
   "metadata": {},
   "source": [
    "### Node Similarity/K-Nearest Neighbors on Poster Embeddings (for fun)"
   ]
  },
  {
   "cell_type": "code",
   "execution_count": 16,
   "metadata": {},
   "outputs": [
    {
     "name": "stderr",
     "output_type": "stream",
     "text": [
      "Received notification from DBMS server: {severity: WARNING} {code: Neo.ClientNotification.Statement.FeatureDeprecationWarning} {category: DEPRECATION} {title: This feature is deprecated and will be removed in future versions.} {description: The query used a deprecated function: `id`.} {position: line: 13, column: 11, offset: 272} for query: \"\\n    CALL gds.knn.stream('movieKNNGraph', {\\n        nodeLabels: ['Movie'],\\n        nodeProperties: {\\n            posterEmbedding: 'COSINE'\\n        },\\n        topK: 10,\\n        randomSeed: 42,\\n        concurrency: 1\\n    }\\n    )\\n    YIELD node1, node2, similarity\\n    WHERE ID(gds.util.asNode(node1)) IN $id_list AND NOT ID(gds.util.asNode(node2)) IN $id_list\\n    RETURN elementId(gds.util.asNode(node2)) AS id, properties(gds.util.asNode(node2)) AS movie, similarity\\n    ORDER BY similarity DESC\\n    LIMIT 10;\\n    \"\n",
      "Received notification from DBMS server: {severity: WARNING} {code: Neo.ClientNotification.Statement.FeatureDeprecationWarning} {category: DEPRECATION} {title: This feature is deprecated and will be removed in future versions.} {description: The query used a deprecated function: `id`.} {position: line: 13, column: 58, offset: 319} for query: \"\\n    CALL gds.knn.stream('movieKNNGraph', {\\n        nodeLabels: ['Movie'],\\n        nodeProperties: {\\n            posterEmbedding: 'COSINE'\\n        },\\n        topK: 10,\\n        randomSeed: 42,\\n        concurrency: 1\\n    }\\n    )\\n    YIELD node1, node2, similarity\\n    WHERE ID(gds.util.asNode(node1)) IN $id_list AND NOT ID(gds.util.asNode(node2)) IN $id_list\\n    RETURN elementId(gds.util.asNode(node2)) AS id, properties(gds.util.asNode(node2)) AS movie, similarity\\n    ORDER BY similarity DESC\\n    LIMIT 10;\\n    \"\n"
     ]
    },
    {
     "name": "stdout",
     "output_type": "stream",
     "text": [
      "Toy Story 2 0.9521079063415527\n",
      "Toy Story 3 0.9397517442703247\n",
      "Planet 51 0.9344040155410767\n",
      "Big Trouble 0.9273042678833008\n",
      "Dracula 2000 0.9267540574073792\n",
      "Goldfinger 0.9191790223121643\n",
      "Jimmy Neutron: Boy Genius 0.9181286692619324\n",
      "Toy Story of Terror 0.9143679141998291\n",
      "Shrek 0.913116455078125\n",
      "Horror of Dracula (Dracula) 0.9123324751853943\n"
     ]
    }
   ],
   "source": [
    "def knn_movie_recommendations(id_list):\n",
    "    \"\"\"\n",
    "    Runs knn algorithm on the movie graphs using the given movie ids as source nodes\n",
    "    Returns list of recommended movies\n",
    "    param id_list: list of movie node ids\n",
    "    \"\"\"\n",
    "    if id_list is None or len(id_list) < 1:\n",
    "        print(\"Please provide at least 1 movie id\")\n",
    "        return []\n",
    "    drop_query = \"\"\"\n",
    "    CALL gds.graph.drop('movieKNNGraph', false) YIELD graphName;\n",
    "    \"\"\"\n",
    "    run_cypher(drop_query, {})\n",
    "    projection_graph_query = \"\"\"\n",
    "    CALL gds.graph.project(\n",
    "        'movieKNNGraph',\n",
    "        ['Movie'],\n",
    "        '*',\n",
    "        {\n",
    "            nodeProperties: ['posterEmbedding']\n",
    "        }\n",
    "    )\n",
    "    \"\"\"\n",
    "    run_cypher(projection_graph_query, {})\n",
    "    query = \"\"\"\n",
    "    CALL gds.knn.stream('movieKNNGraph', {\n",
    "        nodeLabels: ['Movie'],\n",
    "        nodeProperties: {\n",
    "            posterEmbedding: 'COSINE'\n",
    "        },\n",
    "        topK: 10,\n",
    "        randomSeed: 42,\n",
    "        concurrency: 1\n",
    "    }\n",
    "    )\n",
    "    YIELD node1, node2, similarity\n",
    "    WHERE ID(gds.util.asNode(node1)) IN $id_list AND NOT ID(gds.util.asNode(node2)) IN $id_list\n",
    "    RETURN elementId(gds.util.asNode(node2)) AS id, properties(gds.util.asNode(node2)) AS movie, similarity\n",
    "    ORDER BY similarity DESC\n",
    "    LIMIT 10;\n",
    "    \"\"\"\n",
    "    \n",
    "    results = run_cypher(query, {'id_list': id_list})\n",
    "    run_cypher(drop_query, {})\n",
    "    return results\n",
    "\n",
    "knn_recommendations = knn_movie_recommendations(movie_id_list)\n",
    "for record in knn_recommendations:\n",
    "    print(record[\"movie\"][\"title\"], record[\"similarity\"])"
   ]
  },
  {
   "cell_type": "markdown",
   "metadata": {},
   "source": [
    "### Graph Embeddings Node2Vec and GraphSage Implementation"
   ]
  },
  {
   "cell_type": "code",
   "execution_count": 33,
   "metadata": {},
   "outputs": [],
   "source": [
    "def node_embeddings_movie_recommendations(id_list, embedding_option = 'node2vec'):\n",
    "    \"\"\"\n",
    "    Runs node2vec algorithm or GraphSage on the movie graphs using the given movie ids as source nodes\n",
    "    Returns list of recommended movies\n",
    "    GraphSage to incorporate more node features and is more scalable, Node2Vec can only rely on structure (tradeoff)\n",
    "    GraphSage for dymamic graphs, Node2Vec for static graphs\n",
    "    param id_list: list of movie node ids\n",
    "    embedding_option: 'GraphSage' or 'Node2Vec'. GraphSage is default\n",
    "    \"\"\"\n",
    "    \n",
    "    if embedding_option.lower() not in ['graphsage', 'node2vec']:\n",
    "        raise ValueError(\"embedding_option must be 'GraphSage' or 'node2vec'\")\n",
    "    \n",
    "    if id_list is None or len(id_list) < 1:\n",
    "        print(\"Please provide at least 1 movie id\")\n",
    "        return []\n",
    "    drop_query = \"\"\"\n",
    "    CALL gds.graph.exists('movieNode2VecGraph') YIELD exists\n",
    "    WITH exists\n",
    "    CALL apoc.do.when(\n",
    "        exists,\n",
    "        'CALL gds.graph.drop(\"movieNode2VecGraph\") YIELD graphName RETURN graphName',\n",
    "        'RETURN \"Graph does not exist\" AS graphName',\n",
    "        {}\n",
    "    ) YIELD value\n",
    "    RETURN value.graphName;\n",
    "    \"\"\"\n",
    "    run_cypher(drop_query, {})\n",
    "    \n",
    "    if embedding_option.lower() == 'node2vec':\n",
    "        # Store the embeddings on Movie Nodes\n",
    "        # check to see if embeddings are already stored\n",
    "        \n",
    "        check_embedding_query = \"\"\"\n",
    "        MATCH (m:Movie)\n",
    "        WHERE m.node2vecMovieEmbedding IS NOT NULL\n",
    "        RETURN COUNT(m) AS count\n",
    "        \"\"\"\n",
    "        result = run_cypher(check_embedding_query, {})\n",
    "        if result[0]['count'] > 0:\n",
    "            print(\"Embeddings already exist\")\n",
    "        else:\n",
    "            create_graph_query = \"\"\"\n",
    "            CALL gds.graph.project(\n",
    "                'movieNode2VecGraph',\n",
    "                ['Movie'],\n",
    "                {\n",
    "                    ACTED_IN: {orientation: 'UNDIRECTED'},\n",
    "                    DIRECTED: {orientation: 'UNDIRECTED'},\n",
    "                    IN_GENRE: {orientation: 'UNDIRECTED'},\n",
    "                    RATED: {orientation: 'UNDIRECTED', properties: 'rating'}\n",
    "                }\n",
    "            )\n",
    "            \"\"\"\n",
    "            run_cypher(create_graph_query, {})\n",
    "            store_embedding_query = \"\"\"\n",
    "            CALL gds.node2vec.write('movieNode2VecGraph', {\n",
    "                writeProperty: 'node2vecMovieEmbedding',\n",
    "                embeddingDimension: 64,\n",
    "                iterations: 5,\n",
    "                walkLength: 100,\n",
    "                inOutFactor: 3.0\n",
    "                }\n",
    "            )\n",
    "            \"\"\"\n",
    "            run_cypher(store_embedding_query, {})\n",
    "            run_cypher(drop_query, {})\n",
    "        \n",
    "        scale_embedding_query = \"\"\"\n",
    "        MATCH (m:Movie)\n",
    "        WITH m, \n",
    "            reduce(s = 0.0, x IN m.node2vecMovieEmbedding | s + x^2) AS sumSquares\n",
    "        SET m.normFactor = sqrt(sumSquares);\n",
    "        \"\"\"\n",
    "        \n",
    "        run_cypher(scale_embedding_query, {})\n",
    "        \n",
    "        scaler_calculation_query = \"\"\"\n",
    "        MATCH (m:Movie)\n",
    "        WITH m, \n",
    "            reduce(s = 0.0, x IN m.node2vecMovieEmbedding | s + x^2) AS sumSquares\n",
    "        SET m.normFactor = sqrt(sumSquares);\n",
    "        \"\"\"\n",
    "        \n",
    "        run_cypher(scaler_calculation_query, {})\n",
    "        \n",
    "        projection_graph_query = \"\"\"\n",
    "        CALL gds.graph.project(\n",
    "            'movieNode2VecGraph',\n",
    "            {\n",
    "                Movie: {\n",
    "                    properties: ['node2vecMovieEmbedding']\n",
    "                }\n",
    "            },\n",
    "            {\n",
    "                ACTED_IN: {orientation: 'UNDIRECTED'},\n",
    "                DIRECTED: {orientation: 'UNDIRECTED'},\n",
    "                IN_GENRE: {orientation: 'UNDIRECTED'},\n",
    "                RATED: {orientation: 'UNDIRECTED', properties: 'rating'}\n",
    "            }\n",
    "        );\n",
    "        \"\"\"\n",
    "        run_cypher(projection_graph_query, {})\n",
    "        # query = \"\"\"\n",
    "        # CALL gds.node2vec.stream('movieNode2VecGraph', {\n",
    "        #     embeddingDimension: 128,\n",
    "        #     iterations: 5,\n",
    "        #     walkLength: 100,\n",
    "        #     inOutFactor: 2.0,\n",
    "        # })\n",
    "        # YIELD nodeId, embedding\n",
    "        # RETURN gds.util.asNode(nodeId).title AS movie, embedding\n",
    "        # \"\"\"\n",
    "        # results = run_cypher(query, {})\n",
    "        \n",
    "        \n",
    "        \n",
    "        \n",
    "        # KNN for similar movies\n",
    "        query = \"\"\"\n",
    "        CALL gds.knn.stream('movieNode2VecGraph', {\n",
    "            nodeLabels: ['Movie'],\n",
    "            nodeProperties: ['node2vecMovieEmbedding'],\n",
    "            topK: 10\n",
    "            })\n",
    "        YIELD node1, node2, similarity\n",
    "        WHERE ID(gds.util.asNode(node1)) IN $id_list AND NOT ID(gds.util.asNode(node2)) IN $id_list\n",
    "        RETURN elementID(gds.util.asNode(node1)) AS source_id, gds.util.asNode(node1) as source, elementID(gds.util.asNode(node2)) AS target_id, gds.util.asNode(node2) as target, similarity\n",
    "        ORDER BY similarity DESC\n",
    "        LIMIT 10\n",
    "        \"\"\"\n",
    "        results = run_cypher(query, {'id_list': id_list})\n",
    "        \n",
    "        # run_cypher(drop_query, {})\n",
    "        return results\n",
    "    elif embedding_option.lower() == 'graphsage':\n",
    "        drop_graphsage_query = \"\"\"\n",
    "        CALL gds.graph.drop('movieGraphSageGraph', false) YIELD graphName;\n",
    "        \"\"\"\n",
    "        run_cypher(drop_graphsage_query, {})\n",
    "        drop_model_query = \"\"\"\n",
    "        CALL gds.beta.model.drop('movieGraphSageModel', false) YIELD modelInfo;\n",
    "        \"\"\"\n",
    "        run_cypher(drop_model_query, {})\n",
    "        \n",
    "        check_embedding_query = \"\"\"\n",
    "        MATCH (m:Movie)\n",
    "        WHERE m.graphsageMoviePlotEmbedding IS NOT NULL\n",
    "        RETURN COUNT(m) AS count\n",
    "        \"\"\"\n",
    "        check_result = run_cypher(check_embedding_query, {})\n",
    "        if check_result[0]['count'] > 0:\n",
    "            print(\"Embeddings already exist\")\n",
    "        else:\n",
    "            graph_projection_query = \"\"\"\n",
    "            CALL gds.graph.project(\n",
    "                'movieGraphSageGraph',\n",
    "                {\n",
    "                    Movie: {\n",
    "                        properties: ['plotEmbedding', 'imdbRating', 'year']\n",
    "                    },\n",
    "                    Person: {},\n",
    "                    Genre: {},\n",
    "                    User: {}\n",
    "                },\n",
    "                {\n",
    "                    ACTED_IN: {orientation: 'UNDIRECTED'},\n",
    "                    DIRECTED: {orientation: 'UNDIRECTED'},\n",
    "                    IN_GENRE: {orientation: 'UNDIRECTED'},\n",
    "                    RATED: {orientation: 'UNDIRECTED', properties: 'rating'}\n",
    "                }\n",
    "            );\n",
    "            \"\"\"\n",
    "            run_cypher(graph_projection_query, {})\n",
    "        \n",
    "            # Please note that the projectedFeatureDimension should be included to bypass the argument of properties that exist for each label are error\n",
    "            train_graphsage_query = \"\"\"\n",
    "            CALL gds.beta.graphSage.train(\n",
    "                'movieGraphSageGraph',\n",
    "                {\n",
    "                    modelName: 'movieGraphSageModel',\n",
    "                    featureProperties: ['plotEmbedding', 'imdbRating', 'year'],\n",
    "                    embeddingDimension: 128,\n",
    "                    activationFunction: 'relu',\n",
    "                    aggregator: 'pool',\n",
    "                    epochs: 20,\n",
    "                    batchSize: 64,\n",
    "                    projectedFeatureDimension: 32\n",
    "                })\n",
    "            \"\"\"\n",
    "            run_cypher(train_graphsage_query, {})\n",
    "            \n",
    "            embedding_scaler = \"\"\"\n",
    "            MATCH (m:Movie)\n",
    "            WITH m, \n",
    "                reduce(s = 0.0, x IN m.graphsageMoviePlotEmbedding | s + x^2) AS sumSquares\n",
    "            SET m.normFactor = sqrt(sumSquares);\n",
    "            \"\"\"\n",
    "            \n",
    "            run_cypher(embedding_scaler, {})\n",
    "            \n",
    "            scaler_calculation_query = \"\"\"\n",
    "            MATCH (m:Movie)\n",
    "            WHERE m.normFactor IS NOT NULL AND m.normFactor > 0\n",
    "            SET m.graphsageMoviePlotEmbedding = \n",
    "                [x IN m.graphsageMoviePlotEmbedding | x / m.normFactor];\n",
    "            \"\"\"\n",
    "            \n",
    "            run_cypher(scaler_calculation_query, {})\n",
    "        \n",
    "        \n",
    "            store_graphsage_embedding_query = \"\"\"\n",
    "            CALL gds.beta.graphSage.write(\n",
    "                'movieGraphSageGraph',\n",
    "                {\n",
    "                    writeProperty: 'graphsageMoviePlotEmbedding',\n",
    "                    modelName: 'movieGraphSageModel'\n",
    "                }\n",
    "            )\n",
    "            \"\"\"\n",
    "            \n",
    "            run_cypher(store_graphsage_embedding_query, {})\n",
    "            \n",
    "            run_cypher(drop_graphsage_query, {})\n",
    "        \n",
    "       \n",
    "        \n",
    "        graph_projection_query = \"\"\"\n",
    "        CALL gds.graph.project(\n",
    "            'movieGraphSageGraph',\n",
    "            {\n",
    "                Movie: {\n",
    "                    properties: ['graphsageMoviePlotEmbedding']\n",
    "                },\n",
    "                Person: {},\n",
    "                Genre: {},\n",
    "                User: {}\n",
    "            },\n",
    "            {\n",
    "                ACTED_IN: {orientation: 'UNDIRECTED'},\n",
    "                DIRECTED: {orientation: 'UNDIRECTED'},\n",
    "                IN_GENRE: {orientation: 'UNDIRECTED'},\n",
    "                RATED: {orientation: 'UNDIRECTED', properties: 'rating'}\n",
    "            }\n",
    "        );\n",
    "        \"\"\"\n",
    "        run_cypher(graph_projection_query, {})\n",
    "        \n",
    "        query = \"\"\"\n",
    "        CALL gds.knn.stream('movieGraphSageGraph', {\n",
    "            nodeLabels: ['Movie'],\n",
    "            nodeProperties: ['graphsageMoviePlotEmbedding'],\n",
    "            topK: 20\n",
    "            })\n",
    "        YIELD node1, node2, similarity\n",
    "        WHERE ID(gds.util.asNode(node1)) IN $id_list AND NOT ID(gds.util.asNode(node2)) IN $id_list\n",
    "        RETURN elementID(gds.util.asNode(node1)) AS source_id, gds.util.asNode(node1) as source, elementID(gds.util.asNode(node2)) AS target_id, gds.util.asNode(node2) as target, similarity\n",
    "        ORDER BY similarity DESC\n",
    "        LIMIT 10\n",
    "        \"\"\"\n",
    "        results = run_cypher(query, {'id_list': id_list})\n",
    "        return results\n",
    "    return 'Method not supported'\n",
    "    "
   ]
  },
  {
   "cell_type": "code",
   "execution_count": 34,
   "metadata": {},
   "outputs": [
    {
     "name": "stdout",
     "output_type": "stream",
     "text": [
      "Embeddings already exist\n"
     ]
    },
    {
     "name": "stderr",
     "output_type": "stream",
     "text": [
      "Received notification from DBMS server: {severity: WARNING} {code: Neo.ClientNotification.Statement.FeatureDeprecationWarning} {category: DEPRECATION} {title: This feature is deprecated and will be removed in future versions.} {description: The query used a deprecated function: `id`.} {position: line: 8, column: 15, offset: 233} for query: \"\\n        CALL gds.knn.stream('movieNode2VecGraph', {\\n            nodeLabels: ['Movie'],\\n            nodeProperties: ['node2vecMovieEmbedding'],\\n            topK: 10\\n            })\\n        YIELD node1, node2, similarity\\n        WHERE ID(gds.util.asNode(node1)) IN $id_list AND NOT ID(gds.util.asNode(node2)) IN $id_list\\n        RETURN elementID(gds.util.asNode(node1)) AS source_id, gds.util.asNode(node1) as source, elementID(gds.util.asNode(node2)) AS target_id, gds.util.asNode(node2) as target, similarity\\n        ORDER BY similarity DESC\\n        LIMIT 10\\n        \"\n",
      "Received notification from DBMS server: {severity: WARNING} {code: Neo.ClientNotification.Statement.FeatureDeprecationWarning} {category: DEPRECATION} {title: This feature is deprecated and will be removed in future versions.} {description: The query used a deprecated function: `id`.} {position: line: 8, column: 62, offset: 280} for query: \"\\n        CALL gds.knn.stream('movieNode2VecGraph', {\\n            nodeLabels: ['Movie'],\\n            nodeProperties: ['node2vecMovieEmbedding'],\\n            topK: 10\\n            })\\n        YIELD node1, node2, similarity\\n        WHERE ID(gds.util.asNode(node1)) IN $id_list AND NOT ID(gds.util.asNode(node2)) IN $id_list\\n        RETURN elementID(gds.util.asNode(node1)) AS source_id, gds.util.asNode(node1) as source, elementID(gds.util.asNode(node2)) AS target_id, gds.util.asNode(node2) as target, similarity\\n        ORDER BY similarity DESC\\n        LIMIT 10\\n        \"\n"
     ]
    },
    {
     "name": "stdout",
     "output_type": "stream",
     "text": [
      "Way We Were, The 0.7551795244216919\n",
      "Frozen Ground, The 0.7511285543441772\n",
      "Awfully Big Adventure, An 0.749812126159668\n",
      "Draughtsman's Contract, The 0.748426079750061\n",
      "Tin Cup 0.7457367777824402\n",
      "My Sister's Keeper 0.7414945363998413\n",
      "City of Ember 0.7409699559211731\n",
      "Airplane! 0.740257740020752\n",
      "Passenger 57 0.7401936650276184\n",
      "Dylan Moran Live: What It Is 0.7399937510490417\n"
     ]
    }
   ],
   "source": [
    "# testing node2vec_recommendations\n",
    "node2vec_recommendations = node_embeddings_movie_recommendations(movie_id_list, 'node2vec')\n",
    "for record in node2vec_recommendations:\n",
    "    print(record[\"target\"][\"title\"], record[\"similarity\"])"
   ]
  },
  {
   "cell_type": "markdown",
   "metadata": {},
   "source": [
    "#### Comment: GraphSage to be worked on, the usecase here might not be suitable"
   ]
  },
  {
   "cell_type": "code",
   "execution_count": 35,
   "metadata": {},
   "outputs": [
    {
     "name": "stderr",
     "output_type": "stream",
     "text": [
      "Received notification from DBMS server: {severity: WARNING} {code: Neo.ClientNotification.Statement.FeatureDeprecationWarning} {category: DEPRECATION} {title: This feature is deprecated and will be removed in future versions.} {description: The query used a deprecated procedure. ('gds.beta.model.drop' has been replaced by 'gds.model.drop')} {position: line: 2, column: 9, offset: 9} for query: \"\\n        CALL gds.beta.model.drop('movieGraphSageModel', false) YIELD modelInfo;\\n        \"\n",
      "Received notification from DBMS server: {severity: WARNING} {code: Neo.ClientNotification.Statement.FeatureDeprecationWarning} {category: DEPRECATION} {title: This feature is deprecated and will be removed in future versions.} {description: The query used a deprecated function: `id`.} {position: line: 8, column: 15, offset: 239} for query: \"\\n        CALL gds.knn.stream('movieGraphSageGraph', {\\n            nodeLabels: ['Movie'],\\n            nodeProperties: ['graphsageMoviePlotEmbedding'],\\n            topK: 20\\n            })\\n        YIELD node1, node2, similarity\\n        WHERE ID(gds.util.asNode(node1)) IN $id_list AND NOT ID(gds.util.asNode(node2)) IN $id_list\\n        RETURN elementID(gds.util.asNode(node1)) AS source_id, gds.util.asNode(node1) as source, elementID(gds.util.asNode(node2)) AS target_id, gds.util.asNode(node2) as target, similarity\\n        ORDER BY similarity DESC\\n        LIMIT 10\\n        \"\n",
      "Received notification from DBMS server: {severity: WARNING} {code: Neo.ClientNotification.Statement.FeatureDeprecationWarning} {category: DEPRECATION} {title: This feature is deprecated and will be removed in future versions.} {description: The query used a deprecated function: `id`.} {position: line: 8, column: 62, offset: 286} for query: \"\\n        CALL gds.knn.stream('movieGraphSageGraph', {\\n            nodeLabels: ['Movie'],\\n            nodeProperties: ['graphsageMoviePlotEmbedding'],\\n            topK: 20\\n            })\\n        YIELD node1, node2, similarity\\n        WHERE ID(gds.util.asNode(node1)) IN $id_list AND NOT ID(gds.util.asNode(node2)) IN $id_list\\n        RETURN elementID(gds.util.asNode(node1)) AS source_id, gds.util.asNode(node1) as source, elementID(gds.util.asNode(node2)) AS target_id, gds.util.asNode(node2) as target, similarity\\n        ORDER BY similarity DESC\\n        LIMIT 10\\n        \"\n"
     ]
    },
    {
     "name": "stdout",
     "output_type": "stream",
     "text": [
      "Truth About Cats & Dogs, The 0.9999999999999856\n",
      "Perez Family, The 0.9999999999999695\n",
      "Sphere 0.9999999999999575\n",
      "Air Force One 0.9999999999999563\n",
      "Craft, The 0.9999999999999543\n",
      "Great White Hype, The 0.9999999999999516\n",
      "Truth About Cats & Dogs, The 0.9999999999999477\n",
      "Shallow Grave 0.999999999999944\n",
      "Apostle, The 0.9999999999999294\n",
      "Substitute, The 0.9999999999999287\n"
     ]
    }
   ],
   "source": [
    "# testing graphsage\n",
    "graphsage_recommendations = node_embeddings_movie_recommendations(movie_id_list, 'graphsage')\n",
    "for record in graphsage_recommendations:\n",
    "    print(record[\"target\"][\"title\"], record[\"similarity\"])"
   ]
  },
  {
   "cell_type": "code",
   "execution_count": null,
   "metadata": {},
   "outputs": [],
   "source": []
  }
 ],
 "metadata": {
  "kernelspec": {
   "display_name": "env",
   "language": "python",
   "name": "python3"
  },
  "language_info": {
   "codemirror_mode": {
    "name": "ipython",
    "version": 3
   },
   "file_extension": ".py",
   "mimetype": "text/x-python",
   "name": "python",
   "nbconvert_exporter": "python",
   "pygments_lexer": "ipython3",
   "version": "3.10.7"
  }
 },
 "nbformat": 4,
 "nbformat_minor": 2
}
